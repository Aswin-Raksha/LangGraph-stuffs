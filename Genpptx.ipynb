{
 "cells": [
  {
   "cell_type": "code",
   "execution_count": 21,
   "metadata": {},
   "outputs": [],
   "source": [
    "import getpass\n",
    "import os\n",
    "\n",
    "def _set_env(var: str):\n",
    "    if not os.environ.get(var):\n",
    "        os.environ[var] = getpass.getpass(f\"{var}: \")\n",
    "\n",
    "_set_env(\"OPENAI_API_KEY\")\n"
   ]
  },
  {
   "cell_type": "code",
   "execution_count": 22,
   "metadata": {},
   "outputs": [],
   "source": [
    "from typing import Annotated\n",
    "\n",
    "from typing_extensions import TypedDict\n",
    "\n",
    "from langgraph.graph import StateGraph, START, END\n",
    "from langgraph.graph.message import add_messages\n",
    "\n",
    "\n",
    "class State(TypedDict):\n",
    "    # Messages have the type \"list\". The `add_messages` function\n",
    "    # in the annotation defines how this state key should be updated\n",
    "    # (in this case, it appends messages to the list, rather than overwriting them)\n",
    "    messages: Annotated[list, add_messages]\n",
    "\n",
    "\n",
    "graph_builder = StateGraph(State)"
   ]
  },
  {
   "cell_type": "code",
   "execution_count": null,
   "metadata": {},
   "outputs": [],
   "source": [
    "import os\n",
    "from langchain_openai import ChatOpenAI\n",
    "\n",
    "# Set API key\n",
    "os.environ[\"OPENAI_API_KEY\"] = \"your-api-key\"\n",
    "\n",
    "llm = ChatOpenAI(model=\"gpt-4o-mini\")"
   ]
  },
  {
   "cell_type": "code",
   "execution_count": 32,
   "metadata": {},
   "outputs": [],
   "source": [
    "# Function to generate slide content using AI\n",
    "def generate_slide_content(topic):\n",
    "    prompt = f\"Generate a structured 5-slide PowerPoint outline for the topic: {topic}.\"\n",
    "    response = llm.invoke(prompt).content  # Ensure we get text output\n",
    "    return response.split(\"\\n\")  # Split into slides"
   ]
  },
  {
   "cell_type": "code",
   "execution_count": 50,
   "metadata": {},
   "outputs": [],
   "source": [
    "import tempfile\n"
   ]
  },
  {
   "cell_type": "code",
   "execution_count": 60,
   "metadata": {},
   "outputs": [],
   "source": [
    "def generate_pptx(topic):\n",
    "    prs = Presentation()\n",
    "    slides = generate_slide_content(topic)\n",
    "\n",
    "    for slide_text in slides[:5]:  \n",
    "        if \":\" in slide_text:\n",
    "            title, content = slide_text.split(\":\", 1)\n",
    "        else:\n",
    "            title, content = slide_text, \"\"\n",
    "\n",
    "        slide_layout = prs.slide_layouts[1]  # Title & Content Layout\n",
    "        slide = prs.slides.add_slide(slide_layout)\n",
    "        slide.shapes.title.text = title.strip()\n",
    "        slide.placeholders[1].text = content.strip()\n",
    "\n",
    "    # Save to a known directory (e.g., current working directory)\n",
    "    file_path = os.path.join(os.getcwd(), f\"{topic.replace(' ', '_')}.pptx\")\n",
    "    prs.save(file_path)\n",
    "\n",
    "    print(f\"PPTX file saved at: {file_path}\")\n",
    "    return file_path\n"
   ]
  },
  {
   "cell_type": "code",
   "execution_count": 61,
   "metadata": {},
   "outputs": [],
   "source": [
    "# AI function to generate PPTX\n",
    "def chatbot(state: State):\n",
    "    topic = state[\"messages\"][-1]  # Get latest user input\n",
    "    \n",
    "    # Check if input is a string\n",
    "    if hasattr(topic, \"content\"):  \n",
    "        topic = topic.content  # ✅ Extract string if needed\n",
    "\n",
    "    pptx_path = generate_pptx(topic)\n",
    "    return {\"messages\": [f\"Here is your PPT on {topic}: {pptx_path}\"]}\n"
   ]
  },
  {
   "cell_type": "code",
   "execution_count": 62,
   "metadata": {},
   "outputs": [],
   "source": [
    "# Define LangGraph workflow\n",
    "graph_builder = StateGraph(State)"
   ]
  },
  {
   "cell_type": "code",
   "execution_count": 63,
   "metadata": {},
   "outputs": [
    {
     "data": {
      "text/plain": [
       "<langgraph.graph.state.StateGraph at 0x2510fca2690>"
      ]
     },
     "execution_count": 63,
     "metadata": {},
     "output_type": "execute_result"
    }
   ],
   "source": [
    "graph_builder.add_node(\"chatbot\", chatbot)"
   ]
  },
  {
   "cell_type": "code",
   "execution_count": 64,
   "metadata": {},
   "outputs": [
    {
     "data": {
      "text/plain": [
       "<langgraph.graph.state.StateGraph at 0x2510fca2690>"
      ]
     },
     "execution_count": 64,
     "metadata": {},
     "output_type": "execute_result"
    }
   ],
   "source": [
    "graph_builder.set_entry_point(\"chatbot\")"
   ]
  },
  {
   "cell_type": "code",
   "execution_count": 65,
   "metadata": {},
   "outputs": [],
   "source": [
    "# Compile the workflow\n",
    "ppt_workflow = graph_builder.compile()"
   ]
  },
  {
   "cell_type": "code",
   "execution_count": 66,
   "metadata": {},
   "outputs": [],
   "source": [
    "from IPython.display import Image, display\n",
    "\n",
    "try:\n",
    "    display(Image(graph.get_graph().draw_mermaid_png()))\n",
    "except Exception:\n",
    "    # This requires some extra dependencies and is optional\n",
    "    pass"
   ]
  },
  {
   "cell_type": "code",
   "execution_count": 68,
   "metadata": {},
   "outputs": [
    {
     "name": "stdout",
     "output_type": "stream",
     "text": [
      "PPTX file saved at: e:\\aXtrWorks\\LangGraph\\Artificial_Intelligence.pptx\n"
     ]
    }
   ],
   "source": [
    "# Example Test: User requests a PPT\n",
    "test_state = {\"messages\": [\"Artificial Intelligence\"]}\n",
    "output = ppt_workflow.invoke(test_state)"
   ]
  },
  {
   "cell_type": "code",
   "execution_count": 69,
   "metadata": {},
   "outputs": [
    {
     "name": "stdout",
     "output_type": "stream",
     "text": [
      "content='Artificial Intelligence' additional_kwargs={} response_metadata={} id='8da070a2-b199-434b-99df-cc3253a07a1c'\n"
     ]
    }
   ],
   "source": [
    "# Display response\n",
    "print(output[\"messages\"][0])"
   ]
  }
 ],
 "metadata": {
  "kernelspec": {
   "display_name": "venv",
   "language": "python",
   "name": "python3"
  },
  "language_info": {
   "codemirror_mode": {
    "name": "ipython",
    "version": 3
   },
   "file_extension": ".py",
   "mimetype": "text/x-python",
   "name": "python",
   "nbconvert_exporter": "python",
   "pygments_lexer": "ipython3",
   "version": "3.12.5"
  }
 },
 "nbformat": 4,
 "nbformat_minor": 2
}
