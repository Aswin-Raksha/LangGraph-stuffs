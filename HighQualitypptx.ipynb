{
 "cells": [
  {
   "cell_type": "code",
   "execution_count": 80,
   "metadata": {},
   "outputs": [],
   "source": [
    "from langgraph.graph import StateGraph\n",
    "from langchain_openai import ChatOpenAI\n",
    "from langchain.schema import HumanMessage, AIMessage\n",
    "from pptx import Presentation"
   ]
  },
  {
   "cell_type": "code",
   "execution_count": 81,
   "metadata": {},
   "outputs": [],
   "source": [
    "import getpass\n",
    "import os\n",
    "\n",
    "def _set_env(var: str):\n",
    "    if not os.environ.get(var):\n",
    "        os.environ[var] = getpass.getpass(f\"{var}: \")\n",
    "\n",
    "_set_env(\"OPENAI_API_KEY\")\n"
   ]
  },
  {
   "cell_type": "code",
   "execution_count": 83,
   "metadata": {},
   "outputs": [],
   "source": [
    "from typing import Annotated\n",
    "\n",
    "from typing_extensions import TypedDict\n",
    "\n",
    "from langgraph.graph import StateGraph, START, END\n",
    "from langgraph.graph.message import add_messages\n",
    "\n",
    "\n",
    "class State(TypedDict):\n",
    "    # Messages have the type \"list\". The `add_messages` function\n",
    "    # in the annotation defines how this state key should be updated\n",
    "    # (in this case, it appends messages to the list, rather than overwriting them)\n",
    "    messages: Annotated[list, add_messages]\n",
    "\n",
    "\n",
    "graph_builder = StateGraph(State)"
   ]
  },
  {
   "cell_type": "code",
   "execution_count": null,
   "metadata": {},
   "outputs": [],
   "source": [
    "import os\n",
    "from langchain_openai import ChatOpenAI\n",
    "\n",
    "# Set API key\n",
    "os.environ[\"OPENAI_API_KEY\"] = \"your-api-key\"\n",
    "\n",
    "llm = ChatOpenAI(model=\"gpt-4o-mini\" , temperature = 0.7 , timeout = 30)"
   ]
  },
  {
   "cell_type": "code",
   "execution_count": 85,
   "metadata": {},
   "outputs": [],
   "source": [
    "from langgraph.graph import Graph\n",
    "from pptx import Presentation\n",
    "from pptx.util import Pt"
   ]
  },
  {
   "cell_type": "code",
   "execution_count": 93,
   "metadata": {},
   "outputs": [],
   "source": [
    "# Step 1: Extract Subtopics\n",
    "def get_subtopics(state: PresentationState):\n",
    "    prompt = f\"List 5 key subtopics for a presentation on '{state.topic}'.\"\n",
    "    response = llm.predict(prompt)\n",
    "    subtopics = response.split(\"\\n\")[:5]  # Extract subtopics\n",
    "    return PresentationState(topic=state.topic, subtopics=subtopics)"
   ]
  },
  {
   "cell_type": "code",
   "execution_count": 94,
   "metadata": {},
   "outputs": [],
   "source": [
    "# Step 2: Generate Slide Content\n",
    "def generate_content(state: PresentationState):\n",
    "    content = {}\n",
    "\n",
    "    for sub in state.subtopics:\n",
    "        prompt = f\"Write professional slide content for the subtopic '{sub}' under '{state.topic}'.\"\n",
    "        content[sub] = llm.predict(prompt)\n",
    "\n",
    "    return PresentationState(topic=state.topic, subtopics=state.subtopics, content=content)"
   ]
  },
  {
   "cell_type": "code",
   "execution_count": 95,
   "metadata": {},
   "outputs": [],
   "source": [
    "# Step 3: Generate PowerPoint\n",
    "def generate_pptx(state: PresentationState):\n",
    "    prs = Presentation()\n",
    "    slide_layout = prs.slide_layouts[1]  # Title and Content Layout\n",
    "\n",
    "    # Cover Slide\n",
    "    slide = prs.slides.add_slide(prs.slide_layouts[0])\n",
    "    slide.shapes.title.text = state.topic\n",
    "    slide.shapes.placeholders[1].text = \"An AI-generated presentation\"\n",
    "\n",
    "    # Create slides for each subtopic\n",
    "    for subtopic, text in state.content.items():\n",
    "        slide = prs.slides.add_slide(slide_layout)\n",
    "        slide.shapes.title.text = subtopic\n",
    "        slide.shapes.placeholders[1].text = text\n",
    "\n",
    "    # Save the presentation\n",
    "    pptx_filename = f\"{state.topic.replace(' ', '_')}.pptx\"\n",
    "    prs.save(pptx_filename)\n",
    "\n",
    "    return PresentationState(topic=state.topic, subtopics=state.subtopics, content=state.content, pptx_filename=pptx_filename)\n"
   ]
  },
  {
   "cell_type": "code",
   "execution_count": 111,
   "metadata": {},
   "outputs": [],
   "source": [
    "from pydantic import BaseModel\n",
    "\n",
    "# ✅ Define State Schema using Pydantic\n",
    "class PresentationState(BaseModel):\n",
    "    topic: str\n",
    "    subtopics: list[str] = []\n",
    "    content: dict[str, str] = {}\n",
    "    pptx_filename: str = \"\""
   ]
  },
  {
   "cell_type": "code",
   "execution_count": 112,
   "metadata": {},
   "outputs": [],
   "source": [
    "graph = StateGraph(PresentationState)  # Fix: Use Pydantic Model"
   ]
  },
  {
   "cell_type": "code",
   "execution_count": 113,
   "metadata": {},
   "outputs": [
    {
     "data": {
      "text/plain": [
       "<langgraph.graph.state.StateGraph at 0x29ac44b0c20>"
      ]
     },
     "execution_count": 113,
     "metadata": {},
     "output_type": "execute_result"
    }
   ],
   "source": [
    "# ✅ Create LangGraph Workflow with Correct Schema\n",
    "\n",
    "graph.add_node(\"get_subtopics\", get_subtopics)\n",
    "graph.add_node(\"generate_content\", generate_content)\n",
    "graph.add_node(\"generate_pptx\", generate_pptx)"
   ]
  },
  {
   "cell_type": "code",
   "execution_count": 114,
   "metadata": {},
   "outputs": [
    {
     "data": {
      "text/plain": [
       "<langgraph.graph.state.StateGraph at 0x29ac44b0c20>"
      ]
     },
     "execution_count": 114,
     "metadata": {},
     "output_type": "execute_result"
    }
   ],
   "source": [
    "# Define Workflow Sequence\n",
    "graph.set_entry_point(\"get_subtopics\")\n",
    "graph.add_edge(\"get_subtopics\", \"generate_content\")\n",
    "graph.add_edge(\"generate_content\", \"generate_pptx\")"
   ]
  },
  {
   "cell_type": "code",
   "execution_count": 115,
   "metadata": {},
   "outputs": [
    {
     "data": {
      "image/png": "[encoded data removed]",
      "text/plain": [
       "<langgraph.graph.state.CompiledStateGraph object at 0x0000029AC3B56630>"
      ]
     },
     "execution_count": 115,
     "metadata": {},
     "output_type": "execute_result"
    }
   ],
   "source": [
    "# Compile the Workflow\n",
    "compiled_graph = graph.compile()\n",
    "compiled_graph"
   ]
  },
  {
   "cell_type": "code",
   "execution_count": 116,
   "metadata": {},
   "outputs": [
    {
     "ename": "AttributeError",
     "evalue": "'AddableValuesDict' object has no attribute 'pptx_filename'",
     "output_type": "error",
     "traceback": [
      "\u001b[31m---------------------------------------------------------------------------\u001b[39m",
      "\u001b[31mAttributeError\u001b[39m                            Traceback (most recent call last)",
      "\u001b[36mCell\u001b[39m\u001b[36m \u001b[39m\u001b[32mIn[116]\u001b[39m\u001b[32m, line 8\u001b[39m\n\u001b[32m      5\u001b[39m output = compiled_graph.invoke(PresentationState(topic=topic))\n\u001b[32m      7\u001b[39m \u001b[38;5;66;03m# Confirm PPTX Generation\u001b[39;00m\n\u001b[32m----> \u001b[39m\u001b[32m8\u001b[39m \u001b[38;5;28mprint\u001b[39m(\u001b[33mf\u001b[39m\u001b[33m\"\u001b[39m\u001b[33mPPTX Generated: \u001b[39m\u001b[38;5;132;01m{\u001b[39;00m\u001b[43moutput\u001b[49m\u001b[43m.\u001b[49m\u001b[43mpptx_filename\u001b[49m\u001b[38;5;132;01m}\u001b[39;00m\u001b[33m\"\u001b[39m)\n",
      "\u001b[31mAttributeError\u001b[39m: 'AddableValuesDict' object has no attribute 'pptx_filename'"
     ]
    }
   ],
   "source": [
    "# Get User Input\n",
    "topic = input(\"Enter the topic for the presentation: \")\n",
    "\n",
    "# Run the Workflow\n",
    "output = compiled_graph.invoke(PresentationState(topic=topic))\n",
    "\n",
    "# Confirm PPTX Generation\n",
    "print(f\"PPTX Generated: {output.pptx_filename}\")"
   ]
  }
 ],
 "metadata": {
  "kernelspec": {
   "display_name": "venv",
   "language": "python",
   "name": "python3"
  },
  "language_info": {
   "codemirror_mode": {
    "name": "ipython",
    "version": 3
   },
   "file_extension": ".py",
   "mimetype": "text/x-python",
   "name": "python",
   "nbconvert_exporter": "python",
   "pygments_lexer": "ipython3",
   "version": "3.12.5"
  }
 },
 "nbformat": 4,
 "nbformat_minor": 2
}
