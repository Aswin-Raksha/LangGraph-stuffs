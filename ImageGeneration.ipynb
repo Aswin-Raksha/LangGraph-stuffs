{
 "cells": [
  {
   "cell_type": "code",
   "execution_count": 65,
   "metadata": {},
   "outputs": [],
   "source": [
    "import openai\n",
    "import os\n",
    "from langgraph.graph import Graph"
   ]
  },
  {
   "cell_type": "code",
   "execution_count": 72,
   "metadata": {},
   "outputs": [],
   "source": [
    "from dotenv import load_dotenv\n",
    "import os\n",
    "\n",
    "load_dotenv()\n",
    "OPENAI_API_KEY = os.getenv(\"OPENAI_API_KEY\")\n",
    "\n",
    "client = openai.OpenAI(api_key=OPENAI_API_KEY)\n"
   ]
  },
  {
   "cell_type": "code",
   "execution_count": 73,
   "metadata": {},
   "outputs": [],
   "source": [
    "# ✅ Define Image Generation State (Using Dictionary)\n",
    "def get_user_input(state: dict) -> dict:\n",
    "    \"\"\"Get user input for the image topic.\"\"\"\n",
    "    if \"topic\" not in state or not state[\"topic\"]:\n",
    "        state[\"topic\"] = input(\"Enter a topic for image generation: \")\n",
    "    return state"
   ]
  },
  {
   "cell_type": "code",
   "execution_count": 74,
   "metadata": {},
   "outputs": [],
   "source": [
    "def generate_image_prompt(state: dict) -> dict:\n",
    "    \"\"\"Generate an AI-friendly prompt for DALL·E.\"\"\"\n",
    "    state[\"prompt\"] = f\"A highly detailed, realistic image of {state['topic']}, cinematic lighting, 4K resolution.\"\n",
    "    return state"
   ]
  },
  {
   "cell_type": "code",
   "execution_count": 75,
   "metadata": {},
   "outputs": [],
   "source": [
    "def generate_image(state: dict) -> dict:\n",
    "    \"\"\"Generate an image using OpenAI DALL·E with the new API format.\"\"\"\n",
    "    try:\n",
    "        response = client.images.generate(\n",
    "            model=\"dall-e-3\",  # Use latest DALL·E model\n",
    "            prompt=state[\"prompt\"],\n",
    "            n=1,\n",
    "            size=\"1024x1024\"\n",
    "        )\n",
    "        state[\"image_url\"] = response.data[0].url\n",
    "        print(f\"✅ Image generated successfully: {state['image_url']}\")\n",
    "    except Exception as e:\n",
    "        print(f\"❌ Error generating image: {e}\")\n",
    "        state[\"image_url\"] = None\n",
    "    return state"
   ]
  },
  {
   "cell_type": "code",
   "execution_count": 76,
   "metadata": {},
   "outputs": [],
   "source": [
    "\n",
    "# ✅ Build Workflow with LangGraph\n",
    "workflow = Graph()"
   ]
  },
  {
   "cell_type": "code",
   "execution_count": 77,
   "metadata": {},
   "outputs": [
    {
     "data": {
      "text/plain": [
       "<langgraph.graph.graph.Graph at 0x1ab5ebc5730>"
      ]
     },
     "execution_count": 77,
     "metadata": {},
     "output_type": "execute_result"
    }
   ],
   "source": [
    "# ✅ Add Nodes\n",
    "workflow.add_node(\"user_input\", get_user_input)\n",
    "workflow.add_node(\"generate_prompt\", generate_image_prompt)\n",
    "workflow.add_node(\"generate_image\", generate_image)"
   ]
  },
  {
   "cell_type": "code",
   "execution_count": 78,
   "metadata": {},
   "outputs": [
    {
     "data": {
      "text/plain": [
       "<langgraph.graph.graph.Graph at 0x1ab5ebc5730>"
      ]
     },
     "execution_count": 78,
     "metadata": {},
     "output_type": "execute_result"
    }
   ],
   "source": [
    "# ✅ Add Start Node (Fixes EntryPoint Issue)\n",
    "workflow.set_entry_point(\"user_input\")\n",
    "\n",
    "# ✅ Define Workflow Edges\n",
    "workflow.add_edge(\"user_input\", \"generate_prompt\")\n",
    "workflow.add_edge(\"generate_prompt\", \"generate_image\")"
   ]
  },
  {
   "cell_type": "code",
   "execution_count": 79,
   "metadata": {},
   "outputs": [
    {
     "data": {
      "image/png": "[encoded data removed]",
      "text/plain": [
       "<langgraph.graph.graph.CompiledGraph object at 0x000001AB5EC4BFB0>"
      ]
     },
     "execution_count": 79,
     "metadata": {},
     "output_type": "execute_result"
    }
   ],
   "source": [
    "# ✅ Compile Workflow\n",
    "app = workflow.compile()\n",
    "app"
   ]
  },
  {
   "cell_type": "code",
   "execution_count": 80,
   "metadata": {},
   "outputs": [
    {
     "name": "stdout",
     "output_type": "stream",
     "text": [
      "✅ Image generated successfully: https://oaidalleapiprodscus.blob.core.windows.net/private/org-OeqBlvRCiyIFsTn1edhBsquW/user-bR0mX4A7dwu7tUPUiaSbrlMP/img-gX4SlDBlRKyRWuOCr4K2GTBy.png?st=2025-03-24T19%3A16%3A00Z&se=2025-03-24T21%3A16%3A00Z&sp=r&sv=2024-08-04&sr=b&rscd=inline&rsct=image/png&skoid=d505667d-d6c1-4a0a-bac7-5c84a87759f8&sktid=a48cca56-e6da-484e-a814-9c849652bcb3&skt=2025-03-24T19%3A03%3A57Z&ske=2025-03-25T19%3A03%3A57Z&sks=b&skv=2024-08-04&sig=fnfOBgsuadGU0/A000cQtMdACa7szeWZMs1ceI9Rrio%3D\n"
     ]
    },
    {
     "ename": "AttributeError",
     "evalue": "'NoneType' object has no attribute 'get'",
     "output_type": "error",
     "traceback": [
      "\u001b[31m---------------------------------------------------------------------------\u001b[39m",
      "\u001b[31mAttributeError\u001b[39m                            Traceback (most recent call last)",
      "\u001b[36mCell\u001b[39m\u001b[36m \u001b[39m\u001b[32mIn[80]\u001b[39m\u001b[32m, line 6\u001b[39m\n\u001b[32m      3\u001b[39m output = app.invoke(initial_state)\n\u001b[32m      5\u001b[39m \u001b[38;5;66;03m# ✅ Display the Generated Image URL\u001b[39;00m\n\u001b[32m----> \u001b[39m\u001b[32m6\u001b[39m \u001b[38;5;28;01mif\u001b[39;00m \u001b[43moutput\u001b[49m\u001b[43m.\u001b[49m\u001b[43mget\u001b[49m(\u001b[33m\"\u001b[39m\u001b[33mimage_url\u001b[39m\u001b[33m\"\u001b[39m):\n\u001b[32m      7\u001b[39m     \u001b[38;5;28mprint\u001b[39m(\u001b[33mf\u001b[39m\u001b[33m\"\u001b[39m\u001b[33m🖼️ Generated Image URL: \u001b[39m\u001b[38;5;132;01m{\u001b[39;00moutput[\u001b[33m'\u001b[39m\u001b[33mimage_url\u001b[39m\u001b[33m'\u001b[39m]\u001b[38;5;132;01m}\u001b[39;00m\u001b[33m\"\u001b[39m)\n\u001b[32m      8\u001b[39m \u001b[38;5;28;01melse\u001b[39;00m:\n",
      "\u001b[31mAttributeError\u001b[39m: 'NoneType' object has no attribute 'get'"
     ]
    }
   ],
   "source": [
    "# ✅ Run Workflow\n",
    "initial_state = {}  # Start with an empty state (using dictionary)\n",
    "output = app.invoke(initial_state)\n",
    "\n",
    "# ✅ Display the Generated Image URL\n",
    "if output.get(\"image_url\"):\n",
    "    print(f\"🖼️ Generated Image URL: {output['image_url']}\")\n",
    "else:\n",
    "    print(\"⚠️ No image was generated.\")"
   ]
  }
 ],
 "metadata": {
  "kernelspec": {
   "display_name": "venv",
   "language": "python",
   "name": "python3"
  },
  "language_info": {
   "codemirror_mode": {
    "name": "ipython",
    "version": 3
   },
   "file_extension": ".py",
   "mimetype": "text/x-python",
   "name": "python",
   "nbconvert_exporter": "python",
   "pygments_lexer": "ipython3",
   "version": "3.12.5"
  }
 },
 "nbformat": 4,
 "nbformat_minor": 2
}
